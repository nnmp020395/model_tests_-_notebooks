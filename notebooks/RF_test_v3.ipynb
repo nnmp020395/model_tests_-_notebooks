{
 "cells": [
  {
   "cell_type": "code",
   "execution_count": 45,
   "metadata": {
    "collapsed": true
   },
   "outputs": [],
   "source": [
    "import xarray as xr\n",
    "import numpy as np\n",
    "from pathlib import Path\n",
    "import pandas as pd\n",
    "import matplotlib\n",
    "import matplotlib.pyplot as plt\n",
    "import datetime as dt\n",
    "import click\n",
    "import sys,os"
   ]
  },
  {
   "cell_type": "code",
   "execution_count": 150,
   "metadata": {
    "collapsed": true
   },
   "outputs": [],
   "source": [
    "# import module \"cloud filter\"\n",
    "sys.path.append('/homedata/nmpnguyen/ipral-tools/')\n",
    "from ipral_chm15k_cloud_filter import ipral_remove_cloud_profiles\n",
    "# from imp import reload as rl\n",
    "# rl(ipral_chm15k_cloud_filter)\n",
    "\n",
    "'''\n",
    "Le script est pour tester la méthode Rayleigh Fit à un jour de données Ipral.\n",
    "Appliquer sur tous les profils, non ou ayant average time. \n",
    "\n",
    "La méthode de Rayleigh Fit change au niveau de calcul l'épaisseur d'optique. On change les bornes de l'intégration, sépararer l'intégration en fonction de l'altitude référence. \n",
    "\n",
    "'''\n",
    "def correction_background(fileipral, channel):\n",
    "    signal = fileipral[channel]\n",
    "    bckgrd = fileipral['bckgrd_'+channel]\n",
    "    ipralrange = fileipral['range'].values\n",
    "    iprcsbck = (signal/(ipralrange**2) - bckgrd)*(ipralrange**2)\n",
    "    return iprcsbck\n",
    "\n",
    "def get_altitude_reference(zbottom, ztop, altitude_total):\n",
    "    '''\n",
    "    Fonction permet de retrouver la position de l'altitude référence dans le vecteur de l'altitude et la valeur de altitude référence.\n",
    "    Input:\n",
    "        zbottom: le borne bas de l'intervale\n",
    "        ztop: le borne haut de l'intervale\n",
    "        altitude_total: le vecteur total de l'altitude\n",
    "    Output:\n",
    "        la valeur de l'altitude et son indexe dans le vecteur total\n",
    "    '''\n",
    "    def arg_median(a):\n",
    "        '''\n",
    "        Fonction permet de retrouver la position médiane de la zone de référence de l'altitude\n",
    "        Input: \n",
    "            a = l'intervale de l'altitude où se trouve la zone de référence \n",
    "        Ouput:\n",
    "            Indexe de la position dans cet intervale\n",
    "        '''\n",
    "        if len(a) % 2 == 1:\n",
    "            return np.where(a == np.median(a))[0][0]\n",
    "        else:\n",
    "            l,r = len(a) // 2 - 1, len(a) // 2\n",
    "            left = np.partition(a, l)[l]\n",
    "            right = np.partition(a, r)[r]\n",
    "            return np.where(a == left)[0][0]\n",
    "\n",
    "    interval_ref = altitude_total[(altitude_total >= zbottom) & (altitude_total <= ztop)] \n",
    "    idxref = arg_median(interval_ref)\n",
    "    zref = interval_ref[idxref]\n",
    "    idxref_in_total = np.where(altitude_total == zref)[0][0]\n",
    "    return zref, idxref_in_total\n",
    "\n",
    "\n",
    "\n",
    "'''\n",
    "2. Calculer le profil BetaMol[z]*Tr2(AlphaMol(z))[z0] \n",
    "Et calculer son integrale entre zmin et zmax\n",
    "'''\n",
    "def get_backscatter_mol(p, T, w):\n",
    "    '''\n",
    "    Fonction permet de calculer le coef. de backscatter moléculaire \n",
    "    p(Pa), T(K), w(um)\n",
    "    '''\n",
    "    k = 1.38e-23\n",
    "    betamol = (p/(k*T) * 5.45e-32 * (w/0.55)**(-4.09))\n",
    "    alphamol = betamol/0.119\n",
    "    return alphamol, betamol\n",
    "\n",
    "\n",
    "def get_backscatter_mol_attn_v1(alphamol, betamol, alt, idxref):\n",
    "    '''\n",
    "    Cette fonction permet de calculer la retrodiffusion attenuee à partir de zref, data2D\n",
    "    Input: AlphaMol 2D, Betamol2D, alt 1D, indice de l'altitude médiane entre zmin et zmax\n",
    "    Output: profil attenue 2D\n",
    "    '''\n",
    "    Tr = alphamol[:,idxref:].copy() #np.zeros_like(BetaMol[idx_ref:])\n",
    "    print(Tr.shape)\n",
    "    Tr2 = np.zeros_like(betamol[:,idxref:])\n",
    "    # print(len(Tr), len(Tr2))\n",
    "\n",
    "    for i,j in zip(range(1, Tr2.shape[1]),range(idxref+1, len(alt))):\n",
    "        Tr[:,i] = Tr[:,i-1] + alphamol[:,j]*(alt[j]-alt[j-1])\n",
    "        Tr2[:,i] = np.exp(-2*Tr[:,i])\n",
    "\n",
    "    betamol_Z0 = betamol.copy() #np.ones_like(BetaMol)   \n",
    "    print(betamol_Z0.shape)\n",
    "    betamol_Z0[:,idxref+1:] = betamol[:,idxref+1:]*Tr2[:,1:]\n",
    "    # print(betamol_Z0[idxref])  \n",
    "    return betamol_Z0\n",
    "\n",
    "\n",
    "def get_backscatter_mol_attn_v2(alphamol, betamol, alt):\n",
    "    '''\n",
    "    Cette fonction permet de calculer la retrodiffusion attenuee à partir de l'altitude de l'instrument, data2D\n",
    "    Input: AlphaMol 2D, Betamol2D, alt 1D\n",
    "    Output: profil attenue 2D\n",
    "    '''\n",
    "    Tr = np.zeros_like(betamol)\n",
    "    Tr2 = np.zeros_like(betamol)\n",
    "    \n",
    "    for i in range(1, Tr2.shape[1]):\n",
    "        Tr[:,i] = Tr[:,i-1] + alphamol[:,i]*(alt[i]-alt[i-1])\n",
    "        Tr2[:,i] = np.exp(-2*Tr[:,i])\n",
    "        \n",
    "    betamol_Z0 = betamol*Tr2        \n",
    "    return betamol_Z0\n",
    "\n",
    "\n",
    "def processed(w, channel, mode, pression, ta, ztop, zbottom, data):    \n",
    "    ### Range corrected signal - Background\n",
    "    iprcs = correction_background(data, channel)\n",
    "\n",
    "    ### Determiner z0\n",
    "    ipralrange = data['range'].values\n",
    "    Z0, idx_ref = get_altitude_reference(zbottom, ztop, ipralrange)\n",
    "    zintervalle = np.where((ipralrange >= zbottom) & (ipralrange <= ztop))[0]\n",
    "\n",
    "    '''\n",
    "    Appliquer aux données Opar : nuage 21.01.2019 et ciel clair 17.06.2019\n",
    "    1. Calculer le profil Pr2_z0 = Pr2[z]/Pr2[z0] \n",
    "    puis calculer la valeur de son intégrale etre zmin et zmax\n",
    "    '''\n",
    "    Pr2_Z0 = iprcs/iprcs.isel(range=idx_ref)\n",
    "    Pr2_integ = np.zeros(len(ipralraw['time']))\n",
    "    for z in zintervalle[:-1]:\n",
    "        Pr2_integ = Pr2_integ + Pr2_Z0.isel(range=z).values*(ipralrange[z+1]-ipralrange[z])\n",
    "\n",
    "    Pr2_integ_v2 = np.mean(iprcs[:,zintervalle], axis=1)\n",
    "    '''\n",
    "    2. Calculer le profil BetaMol[z]*Tr2(AlphaMol(z))[z0] \n",
    "    Et calculer son integrale entre zmin et zmax\n",
    "    '''\n",
    "    AlphaMol, BetaMol = get_backscatter_mol(pression.values, ta.values, w*1e-3)\n",
    "\n",
    "    # BetaMol_Z0_v2 = np.array([get_backscatter_mol_attn_v2(AlphaMol[i,:], BetaMol[i,:], ipralrange) for i in range(len(iprcs['time']))])\n",
    "    # BetaMol_Z0 = np.array([get_backscatter_mol_attn_v1(AlphaMol[i,:], BetaMol[i,:], ipralrange, idx_ref) for i in range(len(iprcs['time']))])\n",
    "    BetaMol_Z0 = get_backscatter_mol_attn_v1(AlphaMol, BetaMol, ipralrange, idx_ref)\n",
    "    BetaMol_Z0_v2 = get_backscatter_mol_attn_v2(AlphaMol, BetaMol, ipralrange)\n",
    "    BetaMol_integ = 0; BetaMol_integ_v2 = 0\n",
    "    for z in zintervalle[:-1]:\n",
    "        BetaMol_integ = BetaMol_integ + BetaMol_Z0[:,z]*(ipralrange[z+1]-ipralrange[z])\n",
    "        BetaMol_integ_v2 = BetaMol_integ_v2 + BetaMol_Z0_v2[:,z]*(ipralrange[z+1]-ipralrange[z])\n",
    "        \n",
    "#     BetaMol_integ_v2 = np.mean(BetaMol_Z0_v2[:,zintervalle], axis=1)\n",
    "    '''\n",
    "    3. Diviser l'un par l'autre pour obtenir cRF\n",
    "    '''\n",
    "    cRF = (BetaMol_integ/Pr2_integ).reshape(-1,1)\n",
    "    cRF_v2 = (BetaMol_integ_v2/Pr2_integ).reshape(-1,1)\n",
    "\n",
    "    '''\n",
    "    4. Normaliser les profils mesures par cRF\n",
    "    '''\n",
    "    Pr2_norm = Pr2_Z0*np.absolute(cRF) #.isel(time = range(1, len(ipralraw['time'])))\n",
    "    Pr2_norm_v2 = Pr2_Z0*np.absolute(cRF_v2) #.isel(time = range(1, len(ipralraw['time'])))\n",
    "    return Pr2_norm, BetaMol_Z0\n",
    "  "
   ]
  },
  {
   "cell_type": "code",
   "execution_count": 104,
   "metadata": {
    "collapsed": true
   },
   "outputs": [],
   "source": [
    "\n",
    "import sys\n",
    "sys.path.append('/homedata/nmpnguyen/ipral-tools/')\n",
    "# from imp import reload as rl\n",
    "# rl(ipral_chm15k_cloud_filter, ipral_variables_simulation)\n",
    "from ipral_chm15k_cloud_filter import ipral_remove_cloud_profiles as cloud_filter\n",
    "from ipral_variables_simulation import simulate\n"
   ]
  },
  {
   "cell_type": "code",
   "execution_count": 163,
   "metadata": {},
   "outputs": [],
   "source": [
    "opts = {'ztop':7000,\n",
    "           'zbottom':5000,\n",
    "           'filterHeight':4000,\n",
    "           'add_file':'/backupfs/sirta/pub/basesirta/1a/ipral/2018/09/29/ipral_1a_Lz1R15mF30sPbck_v01_20180929_000000_1440.nc',\n",
    "           'out_file':'_R2.nc'}"
   ]
  },
  {
   "cell_type": "code",
   "execution_count": 164,
   "metadata": {
    "collapsed": true
   },
   "outputs": [],
   "source": [
    "if opts['add_file']:\n",
    "    ipral_folder = [Path(opts['add_file'])]\n",
    "else:\n",
    "    IPRAL_PATH = Path(\"/bdd/SIRTA/pub/basesirta/1a/ipral/2018/\")\n",
    "    ipral_folder = sorted(IPRAL_PATH.glob('**/**/ipral_1a_Lz1R15mF30sPbck_v01_*_000000_1440.nc'))\n",
    "\n",
    "\n",
    "wavelengths = [355, 532] #355, 532, \n",
    "channels = ['rcs_12', 'rcs_16'] #'rcs_13', , 'rcs_17'\n",
    "modes = ['355-analog-NearField', '532-analog-NearField'] #'355-photocounting-NearField' , '532-photocounting-NearField'\n",
    "\n",
    "### Determiner z0\n",
    "zbottom = opts['zbottom'] #5000\n",
    "ztop = opts['ztop']"
   ]
  },
  {
   "cell_type": "code",
   "execution_count": 156,
   "metadata": {},
   "outputs": [
    {
     "name": "stdout",
     "output_type": "stream",
     "text": [
      "/backupfs/sirta/pub/basesirta/1a/ipral/2018/09/29/ipral_1a_Lz1R15mF30sPbck_v01_20180929_000000_1440.nc\n"
     ]
    }
   ],
   "source": [
    "for file_ipral in ipral_folder: \n",
    "    print(file_ipral)\n",
    "    ipralraw = xr.open_dataset(file_ipral)\n",
    "    ###____Preparation Pression, Temperature et alt \n",
    "#     ipralsimul = simulate(file_ipral)\n",
    "    ipralsimulpath = sorted(Path('/homedata/nmpnguyen/IPRAL/RF/Simul/').glob(file_ipral.name.split('.')[0]+'_simul.pkl'))[0]\n",
    "    ipralsimul = pd.read_pickle(ipralsimulpath)\n",
    "    pression = ipralsimul['pression'].unstack(level=1)\n",
    "    ta = ipralsimul['ta'].unstack(level=1)"
   ]
  },
  {
   "cell_type": "code",
   "execution_count": 165,
   "metadata": {},
   "outputs": [
    {
     "name": "stdout",
     "output_type": "stream",
     "text": [
      "(2833, 3601)\n",
      "(2833, 4000)\n"
     ]
    }
   ],
   "source": [
    "nb=0\n",
    "# iprcs = correction_background(ipralraw, channels[nb])\n",
    "# ### Determiner z0\n",
    "# ipralrange = ipralraw['range'].values\n",
    "# Z0, idx_ref = get_altitude_reference(zbottom, ztop, ipralrange)\n",
    "# zintervalle = np.where((ipralrange >= zbottom) & (ipralrange <= ztop))[0]\n",
    "\n",
    "\n",
    "new_signal, new_simul = processed(wavelengths[nb], channels[nb], modes[nb], pression, ta, ztop, zbottom, ipralraw)"
   ]
  },
  {
   "cell_type": "code",
   "execution_count": 166,
   "metadata": {},
   "outputs": [
    {
     "data": {
      "text/plain": [
       "(0.0, 20000.0)"
      ]
     },
     "execution_count": 166,
     "metadata": {},
     "output_type": "execute_result"
    },
    {
     "data": {
      "image/png": "[encoded data removed]",
      "text/plain": [
       "<Figure size 432x288 with 1 Axes>"
      ]
     },
     "metadata": {
      "needs_background": "light"
     },
     "output_type": "display_data"
    }
   ],
   "source": [
    "%matplotlib inline\n",
    "fig, ax = plt.subplots()\n",
    "ax.semilogx(new_simul[585,:], ipralrange, linestyle='--', zorder=10)\n",
    "# ax.axvline(1)\n",
    "ax.semilogx(new_signal[585,:], ipralrange)\n",
    "ax.set_ylim(0, 20000)\n",
    "# ax.set_xlim(-1, 20)"
   ]
  },
  {
   "cell_type": "code",
   "execution_count": 167,
   "metadata": {},
   "outputs": [
    {
     "data": {
      "text/plain": [
       "(1e-08, 1e-05)"
      ]
     },
     "execution_count": 167,
     "metadata": {},
     "output_type": "execute_result"
    },
    {
     "data": {
      "image/png": "[encoded data removed]",
      "text/plain": [
       "<Figure size 432x288 with 1 Axes>"
      ]
     },
     "metadata": {
      "needs_background": "light"
     },
     "output_type": "display_data"
    }
   ],
   "source": [
    "fig, ax = plt.subplots()\n",
    "# ax.semilogx(new_signal[585, :(4000//4)].values.reshape([-1, 4000//4]).mean(axis=1), ipralrange[:(4000//4)].reshape([-1, 4000//6]).mean(axis=1))\n",
    "ax.semilogx(new_simul[200, :(4000-4000%6)].reshape([4000//6,-1]).mean(axis=1), ipralrange[:(4000-4000%6)].reshape([4000//6,-1]).mean(axis=1), linestyle='--', zorder=10)\n",
    "ax.semilogx(new_signal[200, :(4000-4000%6)].values.reshape([4000//6,-1]).mean(axis=1), ipralrange[:(4000-4000%6)].reshape([4000//6,-1]).mean(axis=1))\n",
    "ax.set_ylim(0, 20000)\n",
    "ax.set_xlim(1e-8, 1e-5)"
   ]
  },
  {
   "cell_type": "code",
   "execution_count": 129,
   "metadata": {},
   "outputs": [
    {
     "data": {
      "text/plain": [
       "(3996,)"
      ]
     },
     "execution_count": 129,
     "metadata": {},
     "output_type": "execute_result"
    }
   ],
   "source": [
    "new_signal[585, :(4000-4000%6)].shape"
   ]
  },
  {
   "cell_type": "code",
   "execution_count": null,
   "metadata": {
    "collapsed": true
   },
   "outputs": [],
   "source": []
  }
 ],
 "metadata": {
  "kernelspec": {
   "display_name": "accpenvs",
   "language": "python",
   "name": "accpenvs"
  },
  "language_info": {
   "codemirror_mode": {
    "name": "ipython",
    "version": 3
   },
   "file_extension": ".py",
   "mimetype": "text/x-python",
   "name": "python",
   "nbconvert_exporter": "python",
   "pygments_lexer": "ipython3",
   "version": "3.8.5"
  }
 },
 "nbformat": 4,
 "nbformat_minor": 2
}
