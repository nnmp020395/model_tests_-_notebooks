{
 "cells": [
  {
   "cell_type": "code",
   "execution_count": 1,
   "metadata": {
    "collapsed": true
   },
   "outputs": [],
   "source": [
    "import numpy as np\n",
    "import pandas as pd\n",
    "import xarray as xr\n",
    "from pathlib import Path\n",
    "from sklearn.tree import DecisionTreeRegressor\n",
    "from sklearn.preprocessing import StandardScaler\n",
    "from sklearn.pipeline import make_pipeline\n",
    "from sklearn.metrics import mean_absolute_error, r2_score\n",
    "import matplotlib.pyplot as plt\n",
    "from matplotlib.colors import LogNorm\n",
    "import random\n",
    "import warnings \n",
    "warnings.filterwarnings(\"ignore\")\n",
    "import pickle\n",
    "import math"
   ]
  },
  {
   "cell_type": "code",
   "execution_count": 31,
   "metadata": {
    "collapsed": true
   },
   "outputs": [],
   "source": [
    "class split_dataset:\n",
    "    def __init__(self, configs, test_size, random):\n",
    "        self.main_dir = configs['main_dir']\n",
    "        self.year = configs['year']\n",
    "        self.pattern_filename = configs['pattern_filename'][0]\n",
    "        self.test_size = test_size\n",
    "        self.random = random\n",
    "\n",
    "    def random_split(list_elements, test_size, random=False):\n",
    "        '''\n",
    "        Input: \n",
    "            - list_elements : list of observations, datetime format is not required\n",
    "            - test_size : (float) from 0.0 to 1.0, proportion of test dataset size required, generally test_size < 0.5 \n",
    "            - random : if True, select randomly days from list days\n",
    "        Output: \n",
    "            - train_days : list of training days from total days of dataset \n",
    "            - test_days : list of testing days from total days of dataset\n",
    "        '''\n",
    "        # get number of list training days \n",
    "        counts = len(list_elements)\n",
    "        counts_train = np.int((1-test_size)*counts)\n",
    "        li1 = np.arange(0, len(list_elements),1)\n",
    "        \n",
    "        if random:\n",
    "            # set random index for training days \n",
    "            ind_train = np.random.choice(range(counts), counts_train, replace=False)\n",
    "            \n",
    "            # get index left for testing days \n",
    "            li2 = np.array(ind_train)\n",
    "            dif1 = np.setdiff1d(li1, li2)\n",
    "            dif2 = np.setdiff1d(li2, li1)\n",
    "            ind_test = np.concatenate((dif1, dif2))\n",
    "\n",
    "            # get training & testing days \n",
    "            train_list = np.array(list_elements)[ind_train]\n",
    "            test_list = np.array(list_elements)[ind_test]\n",
    "        else:\n",
    "            train_list = list_elements[:counts_train]\n",
    "            test_list = list_elements[counts_train:]\n",
    "        return train_list, test_list\n",
    "\n",
    "    def get_list_paths(self):\n",
    "        ### pattern_filename = 'ipral_calib_03_*_000000_1440.nc'\n",
    "        if len(self.year) > 1:\n",
    "            print(self.year)\n",
    "            list_paths = [sorted(Path(self.main_dir, yy).glob(self.pattern_filename)) for yy in self.year]\n",
    "        else:\n",
    "            list_paths = sorted(Path(input_dir, year).glob(pattern_filename))\n",
    "        \n",
    "        print(list_paths)\n",
    "        train_paths, test_paths = split_dataset.random_split(list_paths, self.test_size, self.random)\n",
    "        return train_paths, test_paths\n",
    "\n",
    "    def get_list_days(self):\n",
    "        train_paths, test_paths = split_dataset.get_list_paths(self)\n",
    "        train_days = [path.stem.split(\"_\")[3] for path in train_paths]\n",
    "        test_days = [path.stem.split(\"_\")[3] for path in test_paths]\n",
    "        return train_days, test_days"
   ]
  },
  {
   "cell_type": "code",
   "execution_count": 32,
   "metadata": {},
   "outputs": [],
   "source": [
    "import random\n",
    "configs_ipral = {\n",
    "    'main_dir' : Path('/homedata/nmpnguyen/NETCDF/v2/'),\n",
    "    'pattern_filename' : ['ipral_calib_03_','_000000_1440.nc'],\n",
    "    'year' : ['2018', '2019'],   \n",
    "    'variables_name' : {\n",
    "        'ATB' : 'Total_Calib_Attn_Backscatter', \n",
    "        'AMB' : 'Attn_Molecular_Backscatter', \n",
    "        'time' : 'time',\n",
    "        'range' : 'range'\n",
    "    }, \n",
    "    'instrument' : 'IPRAL',\n",
    "    'output_dir' : Path('/homedata/nmpnguyen/IPRAL/learning_model_test/Products'),\n",
    "    'random_version' : random.randint(0,1000)\n",
    "}"
   ]
  },
  {
   "cell_type": "code",
   "execution_count": 33,
   "metadata": {
    "collapsed": true
   },
   "outputs": [],
   "source": [
    "dataset_split = split_dataset(configs_ipral, 0.3, True)"
   ]
  },
  {
   "cell_type": "code",
   "execution_count": 34,
   "metadata": {},
   "outputs": [
    {
     "ename": "NameError",
     "evalue": "name 'yy' is not defined",
     "output_type": "error",
     "traceback": [
      "\u001b[0;31m---------------------------------------------------------------------------\u001b[0m",
      "\u001b[0;31mNameError\u001b[0m                                 Traceback (most recent call last)",
      "\u001b[0;32m<ipython-input-34-ba30e36b74ff>\u001b[0m in \u001b[0;36m<module>\u001b[0;34m\u001b[0m\n\u001b[0;32m----> 1\u001b[0;31m \u001b[0mdataset_split\u001b[0m\u001b[0;34m.\u001b[0m\u001b[0mget_list_paths\u001b[0m\u001b[0;34m(\u001b[0m\u001b[0;34m)\u001b[0m\u001b[0;34m\u001b[0m\u001b[0;34m\u001b[0m\u001b[0m\n\u001b[0m",
      "\u001b[0;32m<ipython-input-31-f7d2111f0e73>\u001b[0m in \u001b[0;36mget_list_paths\u001b[0;34m(self)\u001b[0m\n\u001b[1;32m     43\u001b[0m         \u001b[0;31m### pattern_filename = 'ipral_calib_03_*_000000_1440.nc'\u001b[0m\u001b[0;34m\u001b[0m\u001b[0;34m\u001b[0m\u001b[0;34m\u001b[0m\u001b[0m\n\u001b[1;32m     44\u001b[0m         \u001b[0;32mif\u001b[0m \u001b[0mlen\u001b[0m\u001b[0;34m(\u001b[0m\u001b[0mself\u001b[0m\u001b[0;34m.\u001b[0m\u001b[0myear\u001b[0m\u001b[0;34m)\u001b[0m \u001b[0;34m>\u001b[0m \u001b[0;36m1\u001b[0m\u001b[0;34m:\u001b[0m\u001b[0;34m\u001b[0m\u001b[0;34m\u001b[0m\u001b[0m\n\u001b[0;32m---> 45\u001b[0;31m             \u001b[0mprint\u001b[0m\u001b[0;34m(\u001b[0m\u001b[0myy\u001b[0m\u001b[0;34m)\u001b[0m\u001b[0;34m\u001b[0m\u001b[0;34m\u001b[0m\u001b[0m\n\u001b[0m\u001b[1;32m     46\u001b[0m             \u001b[0mlist_paths\u001b[0m \u001b[0;34m=\u001b[0m \u001b[0;34m[\u001b[0m\u001b[0msorted\u001b[0m\u001b[0;34m(\u001b[0m\u001b[0mPath\u001b[0m\u001b[0;34m(\u001b[0m\u001b[0mself\u001b[0m\u001b[0;34m.\u001b[0m\u001b[0mmain_dir\u001b[0m\u001b[0;34m,\u001b[0m \u001b[0myy\u001b[0m\u001b[0;34m)\u001b[0m\u001b[0;34m.\u001b[0m\u001b[0mglob\u001b[0m\u001b[0;34m(\u001b[0m\u001b[0mself\u001b[0m\u001b[0;34m.\u001b[0m\u001b[0mpattern_filename\u001b[0m\u001b[0;34m)\u001b[0m\u001b[0;34m)\u001b[0m \u001b[0;32mfor\u001b[0m \u001b[0myy\u001b[0m \u001b[0;32min\u001b[0m \u001b[0mself\u001b[0m\u001b[0;34m.\u001b[0m\u001b[0myear\u001b[0m\u001b[0;34m]\u001b[0m\u001b[0;34m\u001b[0m\u001b[0;34m\u001b[0m\u001b[0m\n\u001b[1;32m     47\u001b[0m         \u001b[0;32melse\u001b[0m\u001b[0;34m:\u001b[0m\u001b[0;34m\u001b[0m\u001b[0;34m\u001b[0m\u001b[0m\n",
      "\u001b[0;31mNameError\u001b[0m: name 'yy' is not defined"
     ]
    }
   ],
   "source": [
    "dataset_split.get_list_paths()"
   ]
  },
  {
   "cell_type": "code",
   "execution_count": null,
   "metadata": {
    "collapsed": true
   },
   "outputs": [],
   "source": []
  }
 ],
 "metadata": {
  "kernelspec": {
   "display_name": "accpenvs",
   "language": "python",
   "name": "accpenvs"
  },
  "language_info": {
   "codemirror_mode": {
    "name": "ipython",
    "version": 3
   },
   "file_extension": ".py",
   "mimetype": "text/x-python",
   "name": "python",
   "nbconvert_exporter": "python",
   "pygments_lexer": "ipython3",
   "version": "3.8.5"
  }
 },
 "nbformat": 4,
 "nbformat_minor": 2
}
