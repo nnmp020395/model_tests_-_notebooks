{
 "cells": [
  {
   "cell_type": "code",
   "execution_count": 2,
   "metadata": {
    "collapsed": true
   },
   "outputs": [],
   "source": [
    "import xarray as xr \n",
    "from pathlib import Path\n",
    "import numpy as np \n",
    "import pandas as pd \n",
    "import glob, os\n",
    "import matplotlib.pyplot as plt\n",
    "import scipy.interpolate as spi\n",
    "from datetime import datetime, timedelta\n"
   ]
  },
  {
   "cell_type": "code",
   "execution_count": 3,
   "metadata": {},
   "outputs": [
    {
     "data": {
      "text/plain": [
       "'1.3.4'"
      ]
     },
     "execution_count": 3,
     "metadata": {},
     "output_type": "execute_result"
    }
   ],
   "source": [
    "pd.__version__"
   ]
  },
  {
   "cell_type": "markdown",
   "metadata": {},
   "source": [
    "ERA5 for IPRAL\n",
    "========"
   ]
  },
  {
   "cell_type": "code",
   "execution_count": 2,
   "metadata": {
    "collapsed": true
   },
   "outputs": [],
   "source": [
    "oparpath = Path('/home/nmpnguyen/OPAR/LIO3T.daily/2019-04-24.nc4')\n",
    "d = xr.open_dataset(oparpath)"
   ]
  },
  {
   "cell_type": "code",
   "execution_count": 4,
   "metadata": {},
   "outputs": [
    {
     "name": "stdout",
     "output_type": "stream",
     "text": [
      "-----GET IPRAL BCK CORRECTED FILE-----\n",
      "longitude: 55.0\n",
      "latitude: -21.0\n"
     ]
    }
   ],
   "source": [
    "print('-----GET IPRAL BCK CORRECTED FILE-----')\n",
    "\n",
    "time = d.time.values\n",
    "YEAR = pd.to_datetime(time[0]).strftime('%Y')\n",
    "MONTH = pd.to_datetime(time[0]).strftime('%m')\n",
    "lon_opar = round(4*float(d['signal'].longitude))/4 #round(float(d.geospatial_lon_min),2)\n",
    "lat_opar = round(4*float(d['signal'].latitude))/4\n",
    "print(f'longitude: {lon_opar}')\n",
    "print(f'latitude: {lat_opar}')\n",
    "#----\n"
   ]
  },
  {
   "cell_type": "code",
   "execution_count": 5,
   "metadata": {},
   "outputs": [
    {
     "name": "stdout",
     "output_type": "stream",
     "text": [
      "-----GET ERA5 FILE-----\n",
      "path of temperature /bdd/ERA5/NETCDF/GLOBAL_025/hourly/AN_PL/2019/ta.201904.ap1e5.GLOBAL_025.nc\n",
      "path of geopotential /bdd/ERA5/NETCDF/GLOBAL_025/hourly/AN_PL/2019/geopt.201904.ap1e5.GLOBAL_025.nc\n"
     ]
    }
   ],
   "source": [
    "print('-----GET ERA5 FILE-----')\n",
    "ERA_FOLDER = Path(\"/bdd/ERA5/NETCDF/GLOBAL_025/hourly/AN_PL\")\n",
    "ERA_FILENAME = YEAR+MONTH+\".ap1e5.GLOBAL_025.nc\"\n",
    "GEOPT_PATH = ERA_FOLDER / YEAR / Path(\"geopt.\"+ERA_FILENAME)\n",
    "TA_PATH = ERA_FOLDER / YEAR / Path(\"ta.\"+ERA_FILENAME)\n",
    "print(f'path of temperature {TA_PATH}')\n",
    "print(f'path of geopotential {GEOPT_PATH}')\n",
    "geopt = xr.open_dataset(GEOPT_PATH)\n",
    "ta = xr.open_dataset(TA_PATH)\n",
    "#----\n"
   ]
  },
  {
   "cell_type": "code",
   "execution_count": 7,
   "metadata": {},
   "outputs": [
    {
     "name": "stdout",
     "output_type": "stream",
     "text": [
      "-----CONVERT TIME AND LOCALISATION-----\n",
      "Time loading 9.326546353986487\n"
     ]
    }
   ],
   "source": [
    "print('-----CONVERT TIME AND LOCALISATION-----')\n",
    "# date_start = pd.to_datetime(time[0])\n",
    "# date_end = pd.to_datetime(time[-1])\n",
    "time = pd.to_datetime(time).strftime('%Y-%m-%dT%H:00:00.000000000')\n",
    "time = time.astype('datetime64[ns]')\n",
    "time_unique = np.unique(time)\n",
    "LAT = geopt.latitude[np.where(np.abs(geopt.latitude.values - lat_opar) <=0.25)[0][1]].values\n",
    "LON = geopt.longitude[np.where(np.abs(geopt.longitude.values - lon_opar) <=0.25)[0][1]].values\n",
    "#----\n",
    "from timeit import default_timer as timer\n",
    "TIME = timer()\n",
    "geopt_for_ipral = geopt.sel(time=time_unique, latitude=LAT, longitude=LON).to_dataframe()#['geopt']\n",
    "ta_for_ipral = ta.sel(time=time_unique, latitude=LAT, longitude=LON).to_dataframe()#['ta']\n",
    "print(f'Time loading {timer()-TIME}')\n",
    "#----\n"
   ]
  },
  {
   "cell_type": "code",
   "execution_count": 8,
   "metadata": {},
   "outputs": [
    {
     "name": "stdout",
     "output_type": "stream",
     "text": [
      "-----GETTING PRESSURE AND TEMPERATURE-----\n",
      "variables_from_era --> end\n"
     ]
    }
   ],
   "source": [
    "print('-----GETTING PRESSURE AND TEMPERATURE-----')\n",
    "lat_opar = np.deg2rad(lat_opar)\n",
    "acc_gravity = 9.78032*(1+5.2885e-3*(np.sin(lat_opar))**2 - 5.9e-6*(np.sin(2*lat_opar))**2)\n",
    "r0 = 2*acc_gravity/(3.085462e-6 + 2.27e-9*np.cos(2*lat_opar) - 2e-12*np.cos(4*lat_opar))\n",
    "g0 = 9.80665\n",
    "geopt_for_ipral['geopt_height'] = geopt_for_ipral[\"geopt\"]/g0\n",
    "geopt_for_ipral['altitude'] = (geopt_for_ipral['geopt_height']*r0)/(acc_gravity*r0/g0 - geopt_for_ipral['geopt_height'])\n",
    "M = 28.966E-3 \n",
    "R = 8.314510\n",
    "T = (15 + 273.15)\n",
    "const = -(M*g0)/(R*T)\n",
    "p0 = 101325\n",
    "geopt_for_ipral['pression'] = p0*np.exp(const*geopt_for_ipral['altitude'])\n",
    "output_era = pd.merge(geopt_for_ipral, ta_for_ipral['ta'], left_index=True, right_index=True) \n",
    "print('variables_from_era --> end')"
   ]
  },
  {
   "cell_type": "code",
   "execution_count": 75,
   "metadata": {
    "collapsed": true
   },
   "outputs": [],
   "source": [
    "import scipy.interpolate as spi\n",
    "def interpolate_atb_mol(lidar_name, opar_file, era):     \n",
    "    \"\"\"\n",
    "    the Input is the output dataframe of simulate_atb_mol function\n",
    "    \"\"\"\n",
    "    print('-----BEFORE INTERPOLATE-----')\n",
    "    d = xr.open_dataset(opar_file)\n",
    "    r = d.range.values*1e3 + 2160\n",
    "    timeOpar = d.time.values\n",
    "    timeEra = np.unique(era.index.get_level_values(1)) \n",
    "    time_tmp = np.array(pd.to_datetime(timeOpar).strftime('%Y-%m-%dT%H:00:00')).astype('datetime64[ns]')\n",
    "    if len(time_tmp) != len(timeOpar):\n",
    "        print(\"Time Error\")\n",
    "        sys.exit(1)\n",
    "    #------\n",
    "    columns_names = ['altitude', 'pression', 'ta']#, 'beta355mol', 'beta532mol', 'beta355', 'beta532', 'alpha355', 'alpha532', 'tau355', 'tau532'\n",
    "    pression_interp, ta_interp = [[] for _ in range(len(columns_names)-1)] #beta355mol_interp ,beta532mol_interp, beta355_interp ,beta532_interp ,tau355_interp ,tau532_interp ,alpha355_interp ,alpha532_interp ,\n",
    "    new_index = pd.MultiIndex.from_product([timeEra, r], names = ['time', 'range'])\n",
    "    # df_new = pd.DataFrame(index = new_index, columns = era.columns)\n",
    "    print('-----INTERPOLATE ATTENUATED BACKSCATTERING FROM ERA5-----')\n",
    "    for t1 in timeEra:\n",
    "        a = era.loc[pd.IndexSlice[:, t1], columns_names]\n",
    "        f9 = spi.interp1d(a['altitude'], a['pression'], kind = 'linear', bounds_error=False, fill_value=\"extrapolate\")\n",
    "        f10 = spi.interp1d(a['altitude'], a['ta'], kind = 'linear', bounds_error=False, fill_value=\"extrapolate\")\n",
    "        pression_interp, ta_interp = np.append(pression_interp, np.array(f9(r))), np.append(ta_interp, np.array(f10(r)))\n",
    "\n",
    "    new_df = pd.DataFrame(index = new_index, data = np.array([pression_interp, ta_interp]).T, columns = columns_names[1:]) # ,beta355mol_interp ,beta532mol_interp\n",
    "    #, beta355_interp ,beta532_interp ,alpha355_interp ,alpha532_interp ,tau355_interp ,tau532_interp\n",
    "    \n",
    "    print(Path(\"/homedata/nmpnguyen/OPAR/Processed/\",lidar_name.upper(),opar_file.name.split('.')[0]+\"_simul.pkl\"))\n",
    "#     new_df.to_pickle(Path(\"/homedata/nmpnguyen/OPAR/Processed/\",lidar_name.upper(),opar_file.name.split('.')[0]+\"_simul.pkl\"))\n",
    "    print('interpolate_atb_mol --> end')\n",
    "    return new_df"
   ]
  },
  {
   "cell_type": "code",
   "execution_count": 76,
   "metadata": {
    "scrolled": true
   },
   "outputs": [
    {
     "name": "stdout",
     "output_type": "stream",
     "text": [
      "-----BEFORE INTERPOLATE-----\n",
      "-----INTERPOLATE ATTENUATED BACKSCATTERING FROM ERA5-----\n",
      "/homedata/nmpnguyen/OPAR/Processed/LIO3T/2019-04-24_simul.pkl\n",
      "interpolate_atb_mol --> end\n"
     ]
    }
   ],
   "source": [
    "output = interpolate_atb_mol(\"lio3t\", oparpath, output_era)"
   ]
  },
  {
   "cell_type": "code",
   "execution_count": 69,
   "metadata": {
    "collapsed": true,
    "scrolled": true
   },
   "outputs": [],
   "source": [
    "pres = output_era['pression'].unstack(level=1).iloc[:,0]\n",
    "ta = output_era['ta'].unstack(level=1).iloc[:,0]\n",
    "alt = output_era['altitude'].unstack(level=1).iloc[:,0]\n"
   ]
  },
  {
   "cell_type": "code",
   "execution_count": 62,
   "metadata": {
    "scrolled": true
   },
   "outputs": [
    {
     "name": "stdout",
     "output_type": "stream",
     "text": [
      "level\n",
      "1       5.829414e-09\n",
      "2       1.125451e-08\n",
      "3       1.638715e-08\n",
      "5       2.640722e-08\n",
      "7       3.568209e-08\n",
      "10      4.885118e-08\n",
      "20      8.877106e-08\n",
      "30      1.237499e-07\n",
      "50      1.894602e-07\n",
      "70      2.517414e-07\n",
      "100     3.227618e-07\n",
      "125     3.716187e-07\n",
      "150     4.077231e-07\n",
      "175     4.392718e-07\n",
      "200     4.705226e-07\n",
      "225     5.040080e-07\n",
      "250     5.364736e-07\n",
      "300     5.970731e-07\n",
      "350     6.623674e-07\n",
      "400     7.247655e-07\n",
      "450     7.878087e-07\n",
      "500     8.517860e-07\n",
      "550     9.177157e-07\n",
      "600     9.843938e-07\n",
      "650     1.049139e-06\n",
      "700     1.116262e-06\n",
      "750     1.180942e-06\n",
      "775     1.213379e-06\n",
      "800     1.246150e-06\n",
      "825     1.280660e-06\n",
      "850     1.314769e-06\n",
      "875     1.348909e-06\n",
      "900     1.383255e-06\n",
      "925     1.418074e-06\n",
      "950     1.451536e-06\n",
      "975     1.483848e-06\n",
      "1000    1.514759e-06\n",
      "Name: 2019-04-24 15:00:00, dtype: float64\n"
     ]
    }
   ],
   "source": [
    "'''\n",
    "2. Calculer le profil BetaMol[z]*Tr2(AlphaMol(z))[z0] \n",
    "Et calculer son integrale entre zmin et zmax\n",
    "'''\n",
    "def get_backscatter_mol(p, T, w):\n",
    "    '''\n",
    "    Fonction permet de calculer le coef. de backscatter moléculaire \n",
    "    p(Pa), T(K), w(um)\n",
    "    '''\n",
    "    k = 1.38e-23\n",
    "    betamol = p/(k*T) * 5.45e-32 * (w/0.55)**(-4.09)\n",
    "    alphamol = betamol/0.119\n",
    "    return alphamol, betamol\n",
    "\n",
    "\n",
    "AlphaMol, BetaMol = get_backscatter_mol(pres, ta, 0.532)\n",
    "print(BetaMol)\n"
   ]
  },
  {
   "cell_type": "code",
   "execution_count": 78,
   "metadata": {
    "collapsed": true
   },
   "outputs": [],
   "source": [
    "output.to_pickle('/home/nmpnguyen/ear5withoutinterp.pkl')"
   ]
  },
  {
   "cell_type": "code",
   "execution_count": 2,
   "metadata": {},
   "outputs": [
    {
     "data": {
      "text/html": [
       "<div>\n",
       "<style scoped>\n",
       "    .dataframe tbody tr th:only-of-type {\n",
       "        vertical-align: middle;\n",
       "    }\n",
       "\n",
       "    .dataframe tbody tr th {\n",
       "        vertical-align: top;\n",
       "    }\n",
       "\n",
       "    .dataframe thead th {\n",
       "        text-align: right;\n",
       "    }\n",
       "</style>\n",
       "<table border=\"1\" class=\"dataframe\">\n",
       "  <thead>\n",
       "    <tr style=\"text-align: right;\">\n",
       "      <th></th>\n",
       "      <th></th>\n",
       "      <th>pression</th>\n",
       "      <th>ta</th>\n",
       "    </tr>\n",
       "    <tr>\n",
       "      <th>time</th>\n",
       "      <th>range</th>\n",
       "      <th></th>\n",
       "      <th></th>\n",
       "    </tr>\n",
       "  </thead>\n",
       "  <tbody>\n",
       "    <tr>\n",
       "      <th rowspan=\"5\" valign=\"top\">2019-04-24 15:11:05</th>\n",
       "      <th>2160.0</th>\n",
       "      <td>78441.505331</td>\n",
       "      <td>287.682303</td>\n",
       "    </tr>\n",
       "    <tr>\n",
       "      <th>2167.5</th>\n",
       "      <td>78372.030431</td>\n",
       "      <td>287.640497</td>\n",
       "    </tr>\n",
       "    <tr>\n",
       "      <th>2175.0</th>\n",
       "      <td>78302.555531</td>\n",
       "      <td>287.598691</td>\n",
       "    </tr>\n",
       "    <tr>\n",
       "      <th>2182.5</th>\n",
       "      <td>78233.080631</td>\n",
       "      <td>287.556886</td>\n",
       "    </tr>\n",
       "    <tr>\n",
       "      <th>2190.0</th>\n",
       "      <td>78163.605731</td>\n",
       "      <td>287.515080</td>\n",
       "    </tr>\n",
       "    <tr>\n",
       "      <th>...</th>\n",
       "      <th>...</th>\n",
       "      <td>...</td>\n",
       "      <td>...</td>\n",
       "    </tr>\n",
       "    <tr>\n",
       "      <th rowspan=\"5\" valign=\"top\">2019-04-24 18:07:25</th>\n",
       "      <th>124972.5</th>\n",
       "      <td>-3916.642842</td>\n",
       "      <td>395.002043</td>\n",
       "    </tr>\n",
       "    <tr>\n",
       "      <th>124980.0</th>\n",
       "      <td>-3917.058071</td>\n",
       "      <td>395.015156</td>\n",
       "    </tr>\n",
       "    <tr>\n",
       "      <th>124987.5</th>\n",
       "      <td>-3917.473301</td>\n",
       "      <td>395.028268</td>\n",
       "    </tr>\n",
       "    <tr>\n",
       "      <th>124995.0</th>\n",
       "      <td>-3917.888530</td>\n",
       "      <td>395.041381</td>\n",
       "    </tr>\n",
       "    <tr>\n",
       "      <th>125002.5</th>\n",
       "      <td>-3918.303760</td>\n",
       "      <td>395.054494</td>\n",
       "    </tr>\n",
       "  </tbody>\n",
       "</table>\n",
       "<p>1441440 rows × 2 columns</p>\n",
       "</div>"
      ],
      "text/plain": [
       "                                  pression          ta\n",
       "time                range                             \n",
       "2019-04-24 15:11:05 2160.0    78441.505331  287.682303\n",
       "                    2167.5    78372.030431  287.640497\n",
       "                    2175.0    78302.555531  287.598691\n",
       "                    2182.5    78233.080631  287.556886\n",
       "                    2190.0    78163.605731  287.515080\n",
       "...                                    ...         ...\n",
       "2019-04-24 18:07:25 124972.5  -3916.642842  395.002043\n",
       "                    124980.0  -3917.058071  395.015156\n",
       "                    124987.5  -3917.473301  395.028268\n",
       "                    124995.0  -3917.888530  395.041381\n",
       "                    125002.5  -3918.303760  395.054494\n",
       "\n",
       "[1441440 rows x 2 columns]"
      ]
     },
     "execution_count": 2,
     "metadata": {},
     "output_type": "execute_result"
    }
   ],
   "source": [
    "pd.read_pickle('/homedata/nmpnguyen/OPAR/Processed/LIO3T/2019-04-24_simul.pkl')"
   ]
  },
  {
   "cell_type": "code",
   "execution_count": null,
   "metadata": {
    "collapsed": true
   },
   "outputs": [],
   "source": []
  },
  {
   "cell_type": "code",
   "execution_count": 64,
   "metadata": {},
   "outputs": [
    {
     "name": "stdout",
     "output_type": "stream",
     "text": [
      "/homedata/nmpnguyen/IPRAL/RF/Simul/ipral_1a_Lz1R15mF30sPbck_v01_20180909_000000_1440_simul.pkl\n"
     ]
    }
   ],
   "source": [
    "simulpklpath = sorted(Path(\"/homedata/nmpnguyen/IPRAL/RF/Simul/\").glob('ipral_1a_Lz1R15mF30sPbck_v01_20180909_000000_1440*.pkl'))[0]\n",
    "print(simulpklpath)\n",
    "data = pd.read_pickle(simulpklpath)\n",
    "\n",
    "# !pip3 install pickle5\n",
    "# import pickle5 as pickle\n",
    "# with open(simulpklpath, \"rb\") as fh:\n",
    "#   data = pickle.read(fh)\n",
    "# data = pickle.load( open( simulpklpath, \"rb\" ) )"
   ]
  },
  {
   "cell_type": "code",
   "execution_count": 69,
   "metadata": {},
   "outputs": [
    {
     "data": {
      "text/plain": [
       "range\n",
       "15.0       101106.038444\n",
       "30.0       100931.613413\n",
       "45.0       100757.188382\n",
       "60.0       100582.763351\n",
       "75.0       100408.338320\n",
       "               ...      \n",
       "59940.0      -292.135871\n",
       "59955.0      -292.940729\n",
       "59970.0      -293.745587\n",
       "59985.0      -294.550444\n",
       "60000.0      -295.355302\n",
       "Name: 2018-09-09 05:00:42, Length: 4000, dtype: float64"
      ]
     },
     "execution_count": 69,
     "metadata": {},
     "output_type": "execute_result"
    }
   ],
   "source": [
    "# pression = data['pression'].unstack()\n",
    "pression.iloc[585]"
   ]
  },
  {
   "cell_type": "code",
   "execution_count": 67,
   "metadata": {},
   "outputs": [
    {
     "data": {
      "text/plain": [
       "(array([288.89935303, 289.01864624, 289.13793945, ..., 267.97174072,\n",
       "        267.98101807, 267.99032593]),\n",
       " array([1.5000e+01, 3.0000e+01, 4.5000e+01, ..., 5.9970e+04, 5.9985e+04,\n",
       "        6.0000e+04]))"
      ]
     },
     "execution_count": 67,
     "metadata": {},
     "output_type": "execute_result"
    }
   ],
   "source": [
    "temperature = data['ta'].unstack()\n",
    "np.array(temperature.iloc[285]), np.array(pd.DataFrame(temperature.iloc[285]).index)"
   ]
  },
  {
   "cell_type": "code",
   "execution_count": 72,
   "metadata": {},
   "outputs": [
    {
     "data": {
      "text/plain": [
       "<matplotlib.legend.Legend at 0x7fe3b69fd910>"
      ]
     },
     "execution_count": 72,
     "metadata": {},
     "output_type": "execute_result"
    },
    {
     "data": {
      "image/png": "[encoded data removed]",
      "text/plain": [
       "<Figure size 288x432 with 2 Axes>"
      ]
     },
     "metadata": {
      "needs_background": "light"
     },
     "output_type": "display_data"
    }
   ],
   "source": [
    "fig, ax = plt.subplots(figsize=(4,6))\n",
    "ax.plot(np.array(pression.iloc[585]), np.array(pd.DataFrame(pression.iloc[285]).index), \n",
    "        label='Pression, Pa', color='r')\n",
    "ax.set_ylim(0, 20000)\n",
    "ax.set(ylabel='Altitude, m', xlabel='Pression, Pa', title = 'Interpolated data from ERA5 hourly\\n 2018-09-09 05:00:42')\n",
    "\n",
    "ax2 = ax.twiny()\n",
    "ax2.set(xlabel='Temperature, K')\n",
    "ax2.plot(np.array(temperature.iloc[585]), np.array(pd.DataFrame(temperature.iloc[285]).index), \n",
    "         label='Temperature, K', color='b')\n",
    "\n",
    "ax.legend(loc='right')\n",
    "ax2.legend()\n",
    "\n",
    "# plt.gca().invert_yaxis()\n",
    "\n",
    "# plt.savefig('tempe_pression_illutra2022.png')"
   ]
  },
  {
   "cell_type": "code",
   "execution_count": null,
   "metadata": {
    "collapsed": true
   },
   "outputs": [],
   "source": []
  }
 ],
 "metadata": {
  "kernelspec": {
   "display_name": "accpenvs",
   "language": "python",
   "name": "accpenvs"
  },
  "language_info": {
   "codemirror_mode": {
    "name": "ipython",
    "version": 3
   },
   "file_extension": ".py",
   "mimetype": "text/x-python",
   "name": "python",
   "nbconvert_exporter": "python",
   "pygments_lexer": "ipython3",
   "version": "3.8.5"
  }
 },
 "nbformat": 4,
 "nbformat_minor": 2
}
